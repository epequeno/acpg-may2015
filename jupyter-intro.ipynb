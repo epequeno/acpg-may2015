{
 "cells": [
  {
   "cell_type": "markdown",
   "metadata": {},
   "source": [
    "This notebook is to give a brief overview of the major features of both IPython and Jupyter. This borrows heavily from the 'IPython in depth' presentation which can be found here: https://github.com/ipython/ipython-in-depth"
   ]
  },
  {
   "cell_type": "markdown",
   "metadata": {},
   "source": [
    "#Navigating the notebook\n",
    "First we'll focus on Jupyter and how we craft notebooks. To begin with let's look at how we can control actions using keyboard shortcuts. First hit 'Esc' then 'h' to bring up the help dialog"
   ]
  },
  {
   "cell_type": "markdown",
   "metadata": {},
   "source": [
    "`Enter` will perform different actions depending on what it's combined with:\n",
    "* Enter by itself will act as a newline within a cell\n",
    "* **Ctrl** + Enter will run the cell in place and leave the focus on the cell\n",
    "* **Alt** + Enter will run the cell and create a new code cell below\n",
    "* **Shift** + Enter will run cell and focus on below (similar to  **Alt**+Enter since it'll create it if it doesn't exist"
   ]
  },
  {
   "cell_type": "code",
   "execution_count": null,
   "metadata": {
    "collapsed": false
   },
   "outputs": [],
   "source": [
    "print 'hello'"
   ]
  },
  {
   "cell_type": "markdown",
   "metadata": {},
   "source": [
    "To delete a cell: `Esc + dd` simliar to the key combination to delete a line in vim"
   ]
  },
  {
   "cell_type": "code",
   "execution_count": null,
   "metadata": {
    "collapsed": false
   },
   "outputs": [],
   "source": [
    "print 'Delete me!'"
   ]
  },
  {
   "cell_type": "markdown",
   "metadata": {},
   "source": [
    "Cells can be for code (y), markdown (m), or raw (r) in the case that you don't want any formatting. You can switch using `Esc` then the letter associated with the tpye (y, m or r)"
   ]
  },
  {
   "cell_type": "code",
   "execution_count": null,
   "metadata": {
    "collapsed": false
   },
   "outputs": [],
   "source": [
    "print \"this is a code cell\""
   ]
  },
  {
   "cell_type": "markdown",
   "metadata": {},
   "source": [
    "This is a **markdown** cell. Notice that in 'edit' mode we get a preview of the formatting that we're *adding*. We still need to 'run' the cell to get the formatted output. (demo)\n",
    "\n",
    "We can also use LaTex:\n",
    "\n",
    "Courtesy of MathJax, you can include mathematical expressions both inline: \n",
    "$e^{i\\pi} + 1 = 0$  and displayed:\n",
    "\n",
    "$$e^x=\\sum_{i=0}^\\infty \\frac{1}{i!}x^i$$\n",
    "\n",
    "We can also use github style markdown for plain code blocks:\n",
    "\n",
    "```\n",
    "def f(x):\n",
    "    pass\n",
    "```\n",
    "\n",
    "Or with syntax higlighting:\n",
    "\n",
    "```python\n",
    "print \"This is an example of github markdown\"\n",
    "```"
   ]
  },
  {
   "cell_type": "raw",
   "metadata": {},
   "source": [
    "This is just for **raw text** nothing special will display. \n",
    "\n",
    "We do have some nice features if we enable Cell Toolbars above for raw cells.\n",
    "\n",
    "Note: A raw cell will NOT match the indentation of the rest of the notebook if we export to html. (demo)"
   ]
  },
  {
   "cell_type": "markdown",
   "metadata": {},
   "source": [
    "You can also insert cells above and below using `Esc` and 'a' above or 'b' below (demo)"
   ]
  },
  {
   "cell_type": "markdown",
   "metadata": {},
   "source": [
    "#IPython\n",
    "IPython is an advanced repl for python that makes interactive programming a bit easier.\n",
    "\n",
    "Tab completion and doc lookups using '?' allow you to get the information you need quickly, interrupting your flow as little as possible."
   ]
  },
  {
   "cell_type": "code",
   "execution_count": null,
   "metadata": {
    "collapsed": false
   },
   "outputs": [],
   "source": [
    "import requests"
   ]
  },
  {
   "cell_type": "markdown",
   "metadata": {},
   "source": [
    "For each session a history of inputs and outputs is created which we can reference using special IPython operators: single, double, and triple underscores to reference the previous outputs:\n",
    "\n",
    "This underscore idiom only goes back 3 outputs however there are other ways to get the same result which we'll talk about in a bit."
   ]
  },
  {
   "cell_type": "code",
   "execution_count": null,
   "metadata": {
    "collapsed": false
   },
   "outputs": [],
   "source": [
    "2+2"
   ]
  },
  {
   "cell_type": "code",
   "execution_count": null,
   "metadata": {
    "collapsed": false
   },
   "outputs": [],
   "source": [
    "_ ** 10"
   ]
  },
  {
   "cell_type": "code",
   "execution_count": null,
   "metadata": {
    "collapsed": false
   },
   "outputs": [],
   "source": [
    "__ ** 2"
   ]
  },
  {
   "cell_type": "code",
   "execution_count": null,
   "metadata": {
    "collapsed": false
   },
   "outputs": [],
   "source": [
    "___ + 2"
   ]
  },
  {
   "cell_type": "markdown",
   "metadata": {},
   "source": [
    "The entire history is accessible which leads us into our next topic: \n",
    "\n",
    "#Magics\n",
    "We can use 'magic' functions provided by IPython to do a lot of useful things. Magic functions are prefixed by a '%'. The first we'll look at is the %history magic:"
   ]
  },
  {
   "cell_type": "code",
   "execution_count": null,
   "metadata": {
    "collapsed": false
   },
   "outputs": [],
   "source": [
    "%history"
   ]
  },
  {
   "cell_type": "markdown",
   "metadata": {},
   "source": [
    "To see a full list of the available magic functions we can use a magic function: %lsmagic"
   ]
  },
  {
   "cell_type": "code",
   "execution_count": null,
   "metadata": {
    "collapsed": false
   },
   "outputs": [],
   "source": [
    "%lsmagic"
   ]
  },
  {
   "cell_type": "markdown",
   "metadata": {},
   "source": [
    "So here we can see that we have a few interesting options, there are 'line magics' and 'cell magics'. We currently have Automagic on so in a lot of cases we can simply call a line magic without needed to prefix the %"
   ]
  },
  {
   "cell_type": "code",
   "execution_count": null,
   "metadata": {
    "collapsed": false
   },
   "outputs": [],
   "source": [
    "history"
   ]
  },
  {
   "cell_type": "code",
   "execution_count": null,
   "metadata": {
    "collapsed": false
   },
   "outputs": [],
   "source": [
    "ls"
   ]
  },
  {
   "cell_type": "markdown",
   "metadata": {},
   "source": [
    "Let's revisit the history issue we had before. What happens if we've run more than 3 operations and want to reference some output?  \n",
    "\n",
    "We can look at our prompts from earlier and notice that In and Out are assigned numbers. We can reference those outputs like this:"
   ]
  },
  {
   "cell_type": "code",
   "execution_count": null,
   "metadata": {
    "collapsed": false
   },
   "outputs": [],
   "source": [
    "_5"
   ]
  },
  {
   "cell_type": "code",
   "execution_count": null,
   "metadata": {
    "collapsed": false
   },
   "outputs": [],
   "source": [
    "_5 / 100"
   ]
  },
  {
   "cell_type": "code",
   "execution_count": null,
   "metadata": {
    "collapsed": false
   },
   "outputs": [],
   "source": [
    "_13 + 10"
   ]
  },
  {
   "cell_type": "markdown",
   "metadata": {},
   "source": [
    "An issue to be aware of is that these numbers are relative to the current session (as is the history) so if we restart the kernel these references will not produce the same output:"
   ]
  },
  {
   "cell_type": "code",
   "execution_count": null,
   "metadata": {
    "collapsed": false
   },
   "outputs": [],
   "source": [
    "2 + 2"
   ]
  },
  {
   "cell_type": "raw",
   "metadata": {},
   "source": [
    "**restart kernel here**"
   ]
  },
  {
   "cell_type": "code",
   "execution_count": null,
   "metadata": {
    "collapsed": false
   },
   "outputs": [],
   "source": [
    "_13"
   ]
  },
  {
   "cell_type": "markdown",
   "metadata": {},
   "source": [
    "I actually don't use many magics but there are some which are interesting. Let's move on to cell magics:"
   ]
  },
  {
   "cell_type": "markdown",
   "metadata": {},
   "source": [
    "We can use IPython to help solve problems with our code. This is a contrived example but will demonstrate how we can debug using IPython using the %%pdb cell magic"
   ]
  },
  {
   "cell_type": "code",
   "execution_count": null,
   "metadata": {
    "collapsed": false
   },
   "outputs": [],
   "source": [
    "my_list = [1, 2, 3]\n",
    "for i in range(0, 4):\n",
    "    print my_list[i]"
   ]
  },
  {
   "cell_type": "code",
   "execution_count": null,
   "metadata": {
    "collapsed": false
   },
   "outputs": [],
   "source": [
    "%%javascript\n",
    "alert(\"hi from js\")"
   ]
  },
  {
   "cell_type": "code",
   "execution_count": null,
   "metadata": {
    "collapsed": false
   },
   "outputs": [],
   "source": [
    "%%ruby\n",
    "puts \"hi from ruby\""
   ]
  },
  {
   "cell_type": "markdown",
   "metadata": {},
   "source": [
    "These are interesting but I'm mostly concerned with the `%%bash` cell magic"
   ]
  },
  {
   "cell_type": "code",
   "execution_count": null,
   "metadata": {
    "collapsed": false
   },
   "outputs": [],
   "source": [
    "%%bash\n",
    "pwd\n",
    "ls -lh\n",
    "ls | grep log\n",
    "cat access.log | awk '{print $1}' | sort | uniq -c | sort -nr | head\n",
    "for i in {1..5}; do echo $i; done"
   ]
  },
  {
   "cell_type": "markdown",
   "metadata": {},
   "source": [
    "OK, that's a cute trick but shelling out isn't all that interesting. However, we can use the '!' and curly braces to help mix bash and python:"
   ]
  },
  {
   "cell_type": "code",
   "execution_count": null,
   "metadata": {
    "collapsed": false
   },
   "outputs": [],
   "source": [
    "!echo {'hello'.upper()}"
   ]
  },
  {
   "cell_type": "code",
   "execution_count": null,
   "metadata": {
    "collapsed": false
   },
   "outputs": [],
   "source": [
    "histogram = !cat access.log | awk '{print $1}' | sort | uniq -c | sort -rn\n",
    "histogram[:10]"
   ]
  },
  {
   "cell_type": "markdown",
   "metadata": {},
   "source": [
    "Although we do have to do a little cleaning to get data that we can work with: \n",
    "\n",
    "For some reason I couldn't combine these two operations into a single list comprehension. Any thoughts?"
   ]
  },
  {
   "cell_type": "code",
   "execution_count": null,
   "metadata": {
    "collapsed": false
   },
   "outputs": [],
   "source": [
    "histogram = [line.strip() for line in histogram]\n",
    "histogram[:10]\n",
    "histogram = [line.split() for line in histogram][:10]\n",
    "histogram"
   ]
  },
  {
   "cell_type": "markdown",
   "metadata": {},
   "source": [
    "This leads us to our next section, data analysis and visualization with pandas. For now, let's finish the discussion of Jupyter and IPython by looking at a newer feature: **widgets** \n",
    "\n",
    "In particular, I really like the **interact** widget."
   ]
  },
  {
   "cell_type": "code",
   "execution_count": null,
   "metadata": {
    "collapsed": false
   },
   "outputs": [],
   "source": [
    "from IPython.html.widgets import interact\n",
    "\n",
    "def f(x):\n",
    "    print x"
   ]
  },
  {
   "cell_type": "code",
   "execution_count": null,
   "metadata": {
    "collapsed": false
   },
   "outputs": [],
   "source": [
    "interact(f, x=10);"
   ]
  },
  {
   "cell_type": "markdown",
   "metadata": {
    "collapsed": true
   },
   "source": [
    "#Break time!"
   ]
  },
  {
   "cell_type": "code",
   "execution_count": null,
   "metadata": {
    "collapsed": true
   },
   "outputs": [],
   "source": []
  }
 ],
 "metadata": {
  "kernelspec": {
   "display_name": "Python 2",
   "language": "python",
   "name": "python2"
  },
  "language_info": {
   "codemirror_mode": {
    "name": "ipython",
    "version": 2
   },
   "file_extension": ".py",
   "mimetype": "text/x-python",
   "name": "python",
   "nbconvert_exporter": "python",
   "pygments_lexer": "ipython2",
   "version": "2.7.9"
  }
 },
 "nbformat": 4,
 "nbformat_minor": 0
}
