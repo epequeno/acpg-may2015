{
 "cells": [
  {
   "cell_type": "code",
   "execution_count": 1,
   "metadata": {
    "collapsed": true
   },
   "outputs": [],
   "source": [
    "import pandas as pd\n",
    "import numpy as np\n",
    "import matplotlib.pyplot as plt\n",
    "%matplotlib inline"
   ]
  },
  {
   "cell_type": "code",
   "execution_count": 2,
   "metadata": {
    "collapsed": false
   },
   "outputs": [
    {
     "data": {
      "text/html": [
       "<div style=\"max-height:1000px;max-width:1500px;overflow:auto;\">\n",
       "<table border=\"1\" class=\"dataframe\">\n",
       "  <thead>\n",
       "    <tr style=\"text-align: right;\">\n",
       "      <th></th>\n",
       "      <th>count</th>\n",
       "      <th>IP</th>\n",
       "    </tr>\n",
       "  </thead>\n",
       "  <tbody>\n",
       "    <tr>\n",
       "      <th>0</th>\n",
       "      <td>206</td>\n",
       "      <td>64.134.25.220</td>\n",
       "    </tr>\n",
       "    <tr>\n",
       "      <th>1</th>\n",
       "      <td>138</td>\n",
       "      <td>70.114.7.38</td>\n",
       "    </tr>\n",
       "    <tr>\n",
       "      <th>2</th>\n",
       "      <td>115</td>\n",
       "      <td>70.125.133.107</td>\n",
       "    </tr>\n",
       "    <tr>\n",
       "      <th>3</th>\n",
       "      <td>109</td>\n",
       "      <td>61.219.149.7</td>\n",
       "    </tr>\n",
       "    <tr>\n",
       "      <th>4</th>\n",
       "      <td>93</td>\n",
       "      <td>70.114.8.49</td>\n",
       "    </tr>\n",
       "  </tbody>\n",
       "</table>\n",
       "</div>"
      ],
      "text/plain": [
       "   count              IP\n",
       "0    206   64.134.25.220\n",
       "1    138     70.114.7.38\n",
       "2    115  70.125.133.107\n",
       "3    109    61.219.149.7\n",
       "4     93     70.114.8.49"
      ]
     },
     "execution_count": 2,
     "metadata": {},
     "output_type": "execute_result"
    }
   ],
   "source": [
    "ip_count = !cat access.log | awk '{print $1}' | sort | uniq -c | sort -rn\n",
    "ip_count = [line.strip() for line in ip_count]\n",
    "ip_count = [line.split() for line in ip_count][:10]\n",
    "df = pd.DataFrame(ip_count, columns=['count', 'IP'])\n",
    "df['count'] = df['count'].apply(int)\n",
    "df.head()"
   ]
  },
  {
   "cell_type": "code",
   "execution_count": 3,
   "metadata": {
    "collapsed": false
   },
   "outputs": [
    {
     "data": {
      "text/plain": [
       "<matplotlib.axes._subplots.AxesSubplot at 0x7f5849631550>"
      ]
     },
     "execution_count": 3,
     "metadata": {},
     "output_type": "execute_result"
    },
    {
     "data": {
      "image/png": "[encoded data removed]",
      "text/plain": [
       "<matplotlib.figure.Figure at 0x7f5849638d90>"
      ]
     },
     "metadata": {},
     "output_type": "display_data"
    }
   ],
   "source": [
    "df.sort(columns='count', ascending=True).plot(kind='barh', x=df['IP'])"
   ]
  },
  {
   "cell_type": "code",
   "execution_count": 4,
   "metadata": {
    "collapsed": true
   },
   "outputs": [],
   "source": [
    "import seaborn as sns"
   ]
  },
  {
   "cell_type": "code",
   "execution_count": 5,
   "metadata": {
    "collapsed": false
   },
   "outputs": [
    {
     "data": {
      "text/plain": [
       "<matplotlib.axes._subplots.AxesSubplot at 0x7f5840cdde10>"
      ]
     },
     "execution_count": 5,
     "metadata": {},
     "output_type": "execute_result"
    },
    {
     "data": {
      "image/png": "[encoded data removed]",
      "text/plain": [
       "<matplotlib.figure.Figure at 0x7f5840cdd750>"
      ]
     },
     "metadata": {},
     "output_type": "display_data"
    }
   ],
   "source": [
    "df.sort(columns='count', ascending=True).plot(kind='barh', x=df['IP'])"
   ]
  },
  {
   "cell_type": "code",
   "execution_count": 6,
   "metadata": {
    "collapsed": false
   },
   "outputs": [
    {
     "data": {
      "text/plain": [
       "{'axes.axisbelow': True,\n",
       " 'axes.edgecolor': 'white',\n",
       " 'axes.facecolor': '#EAEAF2',\n",
       " 'axes.grid': True,\n",
       " 'axes.labelcolor': '.15',\n",
       " 'axes.linewidth': 0.0,\n",
       " 'font.family': [u'sans-serif'],\n",
       " 'font.sans-serif': [u'Arial',\n",
       "  u'Liberation Sans',\n",
       "  u'Bitstream Vera Sans',\n",
       "  u'sans-serif'],\n",
       " 'grid.color': 'white',\n",
       " 'grid.linestyle': u'-',\n",
       " 'image.cmap': u'Greys',\n",
       " 'legend.frameon': False,\n",
       " 'legend.numpoints': 1,\n",
       " 'legend.scatterpoints': 1,\n",
       " 'lines.solid_capstyle': u'round',\n",
       " 'text.color': '.15',\n",
       " 'xtick.color': '.15',\n",
       " 'xtick.direction': u'out',\n",
       " 'xtick.major.size': 0.0,\n",
       " 'xtick.minor.size': 0.0,\n",
       " 'ytick.color': '.15',\n",
       " 'ytick.direction': u'out',\n",
       " 'ytick.major.size': 0.0,\n",
       " 'ytick.minor.size': 0.0}"
      ]
     },
     "execution_count": 6,
     "metadata": {},
     "output_type": "execute_result"
    }
   ],
   "source": [
    "sns.axes_style()"
   ]
  },
  {
   "cell_type": "code",
   "execution_count": null,
   "metadata": {
    "collapsed": true
   },
   "outputs": [],
   "source": []
  }
 ],
 "metadata": {
  "kernelspec": {
   "display_name": "Python 2",
   "language": "python",
   "name": "python2"
  },
  "language_info": {
   "codemirror_mode": {
    "name": "ipython",
    "version": 2
   },
   "file_extension": ".py",
   "mimetype": "text/x-python",
   "name": "python",
   "nbconvert_exporter": "python",
   "pygments_lexer": "ipython2",
   "version": "2.7.9"
  }
 },
 "nbformat": 4,
 "nbformat_minor": 0
}
