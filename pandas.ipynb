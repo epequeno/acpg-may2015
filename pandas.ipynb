{
 "cells": [
  {
   "cell_type": "markdown",
   "metadata": {
    "collapsed": true
   },
   "source": [
    "pandas (http://pandas.pydata.org/) is an open source, BSD-licensed library providing high-performance, easy-to-use data structures and data analysis tools for the Python programming language."
   ]
  },
  {
   "cell_type": "markdown",
   "metadata": {},
   "source": [
    "It's common to see pandas, numpy and matplotlib imported in the following way. We also have to specify that we would like generated images to be presented on this page. "
   ]
  },
  {
   "cell_type": "code",
   "execution_count": 1,
   "metadata": {
    "collapsed": false
   },
   "outputs": [],
   "source": [
    "import pandas as pd\n",
    "import numpy as np\n",
    "import matplotlib.pyplot as plt\n",
    "%matplotlib inline"
   ]
  },
  {
   "cell_type": "markdown",
   "metadata": {},
   "source": [
    "There are configuration options for Jupyter to do this automatically, this is useful if your notebooks will be used for similar types of data analysis."
   ]
  },
  {
   "cell_type": "markdown",
   "metadata": {},
   "source": [
    "First let's revisit the data we gathered earlier. We created a list of lists which pair up an IP address and how many times that IP address was seen in an nginx access log file."
   ]
  },
  {
   "cell_type": "code",
   "execution_count": 2,
   "metadata": {
    "collapsed": false
   },
   "outputs": [
    {
     "data": {
      "text/plain": [
       "[['206', '64.134.25.220'],\n",
       " ['138', '70.114.7.38'],\n",
       " ['115', '70.125.133.107'],\n",
       " ['109', '61.219.149.7'],\n",
       " ['93', '70.114.8.49'],\n",
       " ['80', '24.153.162.178'],\n",
       " ['50', '72.32.146.52'],\n",
       " ['47', '72.3.128.84'],\n",
       " ['46', '50.56.228.100'],\n",
       " ['46', '38.103.208.94']]"
      ]
     },
     "execution_count": 2,
     "metadata": {},
     "output_type": "execute_result"
    }
   ],
   "source": [
    "ip_count = !cat access.log | awk '{print $1}' | sort | uniq -c | sort -rn\n",
    "ip_count = [line.strip() for line in ip_count]\n",
    "ip_count = [line.split() for line in ip_count][:10]\n",
    "ip_count"
   ]
  },
  {
   "cell_type": "markdown",
   "metadata": {},
   "source": [
    "Now we want to take this data and have pandas be able to do something with it. We begin by creating a \"DataFrame\" from the 'ip_count' variable. DataFrames (DF from here on) are essentially spreadsheets that pandas can do some work on.\n",
    "\n",
    "A common idiom in pandas is to use the 'head' and 'tail' functions to get a quick peek at the DF without having to load the entire thing (especially useful if your DF is large)."
   ]
  },
  {
   "cell_type": "code",
   "execution_count": 3,
   "metadata": {
    "collapsed": false
   },
   "outputs": [
    {
     "data": {
      "text/html": [
       "<div style=\"max-height:1000px;max-width:1500px;overflow:auto;\">\n",
       "<table border=\"1\" class=\"dataframe\">\n",
       "  <thead>\n",
       "    <tr style=\"text-align: right;\">\n",
       "      <th></th>\n",
       "      <th>count</th>\n",
       "      <th>IP</th>\n",
       "    </tr>\n",
       "  </thead>\n",
       "  <tbody>\n",
       "    <tr>\n",
       "      <th>0</th>\n",
       "      <td>206</td>\n",
       "      <td>64.134.25.220</td>\n",
       "    </tr>\n",
       "    <tr>\n",
       "      <th>1</th>\n",
       "      <td>138</td>\n",
       "      <td>70.114.7.38</td>\n",
       "    </tr>\n",
       "    <tr>\n",
       "      <th>2</th>\n",
       "      <td>115</td>\n",
       "      <td>70.125.133.107</td>\n",
       "    </tr>\n",
       "    <tr>\n",
       "      <th>3</th>\n",
       "      <td>109</td>\n",
       "      <td>61.219.149.7</td>\n",
       "    </tr>\n",
       "    <tr>\n",
       "      <th>4</th>\n",
       "      <td>93</td>\n",
       "      <td>70.114.8.49</td>\n",
       "    </tr>\n",
       "  </tbody>\n",
       "</table>\n",
       "</div>"
      ],
      "text/plain": [
       "  count              IP\n",
       "0   206   64.134.25.220\n",
       "1   138     70.114.7.38\n",
       "2   115  70.125.133.107\n",
       "3   109    61.219.149.7\n",
       "4    93     70.114.8.49"
      ]
     },
     "execution_count": 3,
     "metadata": {},
     "output_type": "execute_result"
    }
   ],
   "source": [
    "df = pd.DataFrame(ip_count, columns=['count', 'IP'])\n",
    "df.head()"
   ]
  },
  {
   "cell_type": "code",
   "execution_count": 4,
   "metadata": {
    "collapsed": false
   },
   "outputs": [
    {
     "data": {
      "text/html": [
       "<div style=\"max-height:1000px;max-width:1500px;overflow:auto;\">\n",
       "<table border=\"1\" class=\"dataframe\">\n",
       "  <thead>\n",
       "    <tr style=\"text-align: right;\">\n",
       "      <th></th>\n",
       "      <th>count</th>\n",
       "      <th>IP</th>\n",
       "    </tr>\n",
       "  </thead>\n",
       "  <tbody>\n",
       "    <tr>\n",
       "      <th>5</th>\n",
       "      <td>80</td>\n",
       "      <td>24.153.162.178</td>\n",
       "    </tr>\n",
       "    <tr>\n",
       "      <th>6</th>\n",
       "      <td>50</td>\n",
       "      <td>72.32.146.52</td>\n",
       "    </tr>\n",
       "    <tr>\n",
       "      <th>7</th>\n",
       "      <td>47</td>\n",
       "      <td>72.3.128.84</td>\n",
       "    </tr>\n",
       "    <tr>\n",
       "      <th>8</th>\n",
       "      <td>46</td>\n",
       "      <td>50.56.228.100</td>\n",
       "    </tr>\n",
       "    <tr>\n",
       "      <th>9</th>\n",
       "      <td>46</td>\n",
       "      <td>38.103.208.94</td>\n",
       "    </tr>\n",
       "  </tbody>\n",
       "</table>\n",
       "</div>"
      ],
      "text/plain": [
       "  count              IP\n",
       "5    80  24.153.162.178\n",
       "6    50    72.32.146.52\n",
       "7    47     72.3.128.84\n",
       "8    46   50.56.228.100\n",
       "9    46   38.103.208.94"
      ]
     },
     "execution_count": 4,
     "metadata": {},
     "output_type": "execute_result"
    }
   ],
   "source": [
    "df.tail()"
   ]
  },
  {
   "cell_type": "markdown",
   "metadata": {},
   "source": [
    "Side note: these dataframes are styled using html. Brandon Rhodes had an interesting presentation at PyCon 2015 which shows how to modify IPython's core css to style the DF: https://github.com/brandon-rhodes/pycon-pandas-tutorial I don't understand it enough to explain it so I won't be using it for this presentation"
   ]
  },
  {
   "cell_type": "markdown",
   "metadata": {},
   "source": [
    "We can have pandas well us some information about the DF like what type of objects it's comprised of."
   ]
  },
  {
   "cell_type": "code",
   "execution_count": 5,
   "metadata": {
    "collapsed": false
   },
   "outputs": [
    {
     "data": {
      "text/plain": [
       "count    object\n",
       "IP       object\n",
       "dtype: object"
      ]
     },
     "execution_count": 5,
     "metadata": {},
     "output_type": "execute_result"
    }
   ],
   "source": [
    "df.dtypes"
   ]
  },
  {
   "cell_type": "markdown",
   "metadata": {},
   "source": [
    "Uh-oh. We won't be able to do useful work unless pandas recognizes the 'count' column as a numeric type. "
   ]
  },
  {
   "cell_type": "markdown",
   "metadata": {},
   "source": [
    "#dtypes\n",
    "Let's take a brief interlude to talk about pandas dtypes: (from http://pandas.pydata.org/pandas-docs/stable/basics.html#dtypes )"
   ]
  },
  {
   "cell_type": "code",
   "execution_count": 6,
   "metadata": {
    "collapsed": false
   },
   "outputs": [
    {
     "data": {
      "text/html": [
       "<div style=\"max-height:1000px;max-width:1500px;overflow:auto;\">\n",
       "<table border=\"1\" class=\"dataframe\">\n",
       "  <thead>\n",
       "    <tr style=\"text-align: right;\">\n",
       "      <th></th>\n",
       "      <th>A</th>\n",
       "      <th>B</th>\n",
       "      <th>C</th>\n",
       "      <th>D</th>\n",
       "      <th>E</th>\n",
       "      <th>F</th>\n",
       "      <th>G</th>\n",
       "    </tr>\n",
       "  </thead>\n",
       "  <tbody>\n",
       "    <tr>\n",
       "      <th>0</th>\n",
       "      <td>0.277594</td>\n",
       "      <td>1</td>\n",
       "      <td>foo</td>\n",
       "      <td>2001-01-02</td>\n",
       "      <td>1</td>\n",
       "      <td>False</td>\n",
       "      <td>1</td>\n",
       "    </tr>\n",
       "    <tr>\n",
       "      <th>1</th>\n",
       "      <td>0.198914</td>\n",
       "      <td>1</td>\n",
       "      <td>foo</td>\n",
       "      <td>2001-01-02</td>\n",
       "      <td>1</td>\n",
       "      <td>False</td>\n",
       "      <td>1</td>\n",
       "    </tr>\n",
       "    <tr>\n",
       "      <th>2</th>\n",
       "      <td>0.357611</td>\n",
       "      <td>1</td>\n",
       "      <td>foo</td>\n",
       "      <td>2001-01-02</td>\n",
       "      <td>1</td>\n",
       "      <td>False</td>\n",
       "      <td>1</td>\n",
       "    </tr>\n",
       "  </tbody>\n",
       "</table>\n",
       "</div>"
      ],
      "text/plain": [
       "          A  B    C          D  E      F  G\n",
       "0  0.277594  1  foo 2001-01-02  1  False  1\n",
       "1  0.198914  1  foo 2001-01-02  1  False  1\n",
       "2  0.357611  1  foo 2001-01-02  1  False  1"
      ]
     },
     "execution_count": 6,
     "metadata": {},
     "output_type": "execute_result"
    }
   ],
   "source": [
    "from pandas import Timestamp, Series\n",
    "dft = pd.DataFrame(dict( A = np.random.rand(3),\n",
    "                         B = 1,\n",
    "                         C = 'foo',\n",
    "                         D = Timestamp('20010102'),\n",
    "                         E = Series([1.0]*3).astype('float32'),\n",
    "                         F = False,\n",
    "                         G = Series([1]*3,dtype='int8')))\n",
    "dft.head()"
   ]
  },
  {
   "cell_type": "markdown",
   "metadata": {},
   "source": [
    "Columns with string data are represented as the 'object' dtype. We'll need to coerce the data in our DF to integers to work with them further."
   ]
  },
  {
   "cell_type": "code",
   "execution_count": 7,
   "metadata": {
    "collapsed": false
   },
   "outputs": [
    {
     "data": {
      "text/plain": [
       "A           float64\n",
       "B             int64\n",
       "C            object\n",
       "D    datetime64[ns]\n",
       "E           float32\n",
       "F              bool\n",
       "G              int8\n",
       "dtype: object"
      ]
     },
     "execution_count": 7,
     "metadata": {},
     "output_type": "execute_result"
    }
   ],
   "source": [
    "dft.dtypes"
   ]
  },
  {
   "cell_type": "markdown",
   "metadata": {},
   "source": [
    "To get column 'count' to integers we can 'apply' a function to a column:"
   ]
  },
  {
   "cell_type": "code",
   "execution_count": 8,
   "metadata": {
    "collapsed": false
   },
   "outputs": [
    {
     "data": {
      "text/plain": [
       "count     int64\n",
       "IP       object\n",
       "dtype: object"
      ]
     },
     "execution_count": 8,
     "metadata": {},
     "output_type": "execute_result"
    }
   ],
   "source": [
    "df['count'] = df['count'].apply(int)\n",
    "df.dtypes"
   ]
  },
  {
   "cell_type": "markdown",
   "metadata": {},
   "source": [
    "#Selecting\n",
    "Now we can do some fun stuff like selecting with booleans:"
   ]
  },
  {
   "cell_type": "code",
   "execution_count": 9,
   "metadata": {
    "collapsed": false
   },
   "outputs": [
    {
     "data": {
      "text/html": [
       "<div style=\"max-height:1000px;max-width:1500px;overflow:auto;\">\n",
       "<table border=\"1\" class=\"dataframe\">\n",
       "  <thead>\n",
       "    <tr style=\"text-align: right;\">\n",
       "      <th></th>\n",
       "      <th>count</th>\n",
       "      <th>IP</th>\n",
       "    </tr>\n",
       "  </thead>\n",
       "  <tbody>\n",
       "    <tr>\n",
       "      <th>0</th>\n",
       "      <td>206</td>\n",
       "      <td>64.134.25.220</td>\n",
       "    </tr>\n",
       "    <tr>\n",
       "      <th>1</th>\n",
       "      <td>138</td>\n",
       "      <td>70.114.7.38</td>\n",
       "    </tr>\n",
       "    <tr>\n",
       "      <th>2</th>\n",
       "      <td>115</td>\n",
       "      <td>70.125.133.107</td>\n",
       "    </tr>\n",
       "    <tr>\n",
       "      <th>3</th>\n",
       "      <td>109</td>\n",
       "      <td>61.219.149.7</td>\n",
       "    </tr>\n",
       "  </tbody>\n",
       "</table>\n",
       "</div>"
      ],
      "text/plain": [
       "   count              IP\n",
       "0    206   64.134.25.220\n",
       "1    138     70.114.7.38\n",
       "2    115  70.125.133.107\n",
       "3    109    61.219.149.7"
      ]
     },
     "execution_count": 9,
     "metadata": {},
     "output_type": "execute_result"
    }
   ],
   "source": [
    "df[df['count'] > 100]"
   ]
  },
  {
   "cell_type": "markdown",
   "metadata": {},
   "source": [
    "If we want to chain boolean checks we need to wrap them in parens since the '&' operator takes precedence over the '>' and '<' operators. If we were to try this without the parens pandas would complain that the \"truth\" of a series cannot be evaluated."
   ]
  },
  {
   "cell_type": "code",
   "execution_count": 10,
   "metadata": {
    "collapsed": false
   },
   "outputs": [
    {
     "data": {
      "text/html": [
       "<div style=\"max-height:1000px;max-width:1500px;overflow:auto;\">\n",
       "<table border=\"1\" class=\"dataframe\">\n",
       "  <thead>\n",
       "    <tr style=\"text-align: right;\">\n",
       "      <th></th>\n",
       "      <th>count</th>\n",
       "      <th>IP</th>\n",
       "    </tr>\n",
       "  </thead>\n",
       "  <tbody>\n",
       "    <tr>\n",
       "      <th>1</th>\n",
       "      <td>138</td>\n",
       "      <td>70.114.7.38</td>\n",
       "    </tr>\n",
       "    <tr>\n",
       "      <th>2</th>\n",
       "      <td>115</td>\n",
       "      <td>70.125.133.107</td>\n",
       "    </tr>\n",
       "    <tr>\n",
       "      <th>3</th>\n",
       "      <td>109</td>\n",
       "      <td>61.219.149.7</td>\n",
       "    </tr>\n",
       "  </tbody>\n",
       "</table>\n",
       "</div>"
      ],
      "text/plain": [
       "   count              IP\n",
       "1    138     70.114.7.38\n",
       "2    115  70.125.133.107\n",
       "3    109    61.219.149.7"
      ]
     },
     "execution_count": 10,
     "metadata": {},
     "output_type": "execute_result"
    }
   ],
   "source": [
    "df[(df['count'] > 100) & (df['count'] < 200)]"
   ]
  },
  {
   "cell_type": "markdown",
   "metadata": {},
   "source": [
    "#Plotting"
   ]
  },
  {
   "cell_type": "markdown",
   "metadata": {},
   "source": [
    "For now we can make a simple plot from our DF:"
   ]
  },
  {
   "cell_type": "code",
   "execution_count": 11,
   "metadata": {
    "collapsed": false
   },
   "outputs": [
    {
     "data": {
      "text/plain": [
       "<matplotlib.axes._subplots.AxesSubplot at 0x7f334d2640d0>"
      ]
     },
     "execution_count": 11,
     "metadata": {},
     "output_type": "execute_result"
    },
    {
     "data": {
      "image/png": "[encoded data removed]",
      "text/plain": [
       "<matplotlib.figure.Figure at 0x7f336c04c610>"
      ]
     },
     "metadata": {},
     "output_type": "display_data"
    }
   ],
   "source": [
    "df.plot()"
   ]
  },
  {
   "cell_type": "markdown",
   "metadata": {},
   "source": [
    "Yeah, not what we wanted at all. pandas will default to using a line graph and use it's internal index (the row numbers) to plot the data. pandas visualizations are not as full-featured as matplotlib but we can get pretty far with a few simple options:"
   ]
  },
  {
   "cell_type": "markdown",
   "metadata": {},
   "source": [
    "Let's select the proper type of visualization for this data, in this case we'll use a horizontal bar chart ('barh'). We have to specify which data we expect to have plotted against the count data."
   ]
  },
  {
   "cell_type": "code",
   "execution_count": 12,
   "metadata": {
    "collapsed": false
   },
   "outputs": [
    {
     "data": {
      "text/plain": [
       "<matplotlib.axes._subplots.AxesSubplot at 0x7f334d0e57d0>"
      ]
     },
     "execution_count": 12,
     "metadata": {},
     "output_type": "execute_result"
    },
    {
     "data": {
      "image/png": "[encoded data removed]",
      "text/plain": [
       "<matplotlib.figure.Figure at 0x7f334d1d3f50>"
      ]
     },
     "metadata": {},
     "output_type": "display_data"
    }
   ],
   "source": [
    "df.plot(kind='barh', x=df['IP'])"
   ]
  },
  {
   "cell_type": "markdown",
   "metadata": {},
   "source": [
    "Ok, closer but I'd like to have the IP with the most hits at the top. We can perform transformations on the data then plot that transformed data without having to save the intermediate results."
   ]
  },
  {
   "cell_type": "code",
   "execution_count": 13,
   "metadata": {
    "collapsed": false
   },
   "outputs": [
    {
     "data": {
      "text/plain": [
       "<matplotlib.axes._subplots.AxesSubplot at 0x7f334cfb9490>"
      ]
     },
     "execution_count": 13,
     "metadata": {},
     "output_type": "execute_result"
    },
    {
     "data": {
      "image/png": "[encoded data removed]",
      "text/plain": [
       "<matplotlib.figure.Figure at 0x7f334cfc2990>"
      ]
     },
     "metadata": {},
     "output_type": "display_data"
    }
   ],
   "source": [
    "df.sort(columns='count', ascending=True).plot(kind='barh', x=df['IP'])"
   ]
  },
  {
   "cell_type": "markdown",
   "metadata": {},
   "source": [
    "From here we can start styling the graph to reduce visual noise and making it more visually appealing. A simple way is to use the 'ggplot' style. \n",
    "\n",
    "ggplot (http://ggplot.yhathq.com/) is a plotting system for Python based on R's ggplot2 and the Grammar of Graphics. It is built for making profressional looking, plots quickly with minimal code. \n",
    "\n",
    "I haven't used it much but a discussion of it's goals can be found here: http://blog.yhathq.com/posts/ggplot-for-python.html Essentially plotting with sane defaults since:\n",
    "\n",
    "> matplotlib is powerful...but its plotting commands remain rather verbose, and its no-frills, default output looks much more like Excel circa 1993 than ggplot circa 2013. ~ Jake Vanderplas, [Matplotlib & the Future of Visualization in Python](http://jakevdp.github.io/blog/2013/03/23/matplotlib-and-the-future-of-visualization-in-python/) ([@jakevdp](https://twitter.com/jakevdp))"
   ]
  },
  {
   "cell_type": "markdown",
   "metadata": {},
   "source": [
    "Now let's see what the data would look like using ggplot:"
   ]
  },
  {
   "cell_type": "code",
   "execution_count": 23,
   "metadata": {
    "collapsed": false
   },
   "outputs": [
    {
     "data": {
      "text/plain": [
       "<matplotlib.axes._subplots.AxesSubplot at 0x7f3345e7bad0>"
      ]
     },
     "execution_count": 23,
     "metadata": {},
     "output_type": "execute_result"
    },
    {
     "data": {
      "image/png": "[encoded data removed]",
      "text/plain": [
       "<matplotlib.figure.Figure at 0x7f3345ded650>"
      ]
     },
     "metadata": {},
     "output_type": "display_data"
    }
   ],
   "source": [
    "# use ggplot to make plots automagically better\n",
    "import matplotlib\n",
    "matplotlib.style.use('ggplot')\n",
    "\n",
    "df.sort(columns='count', ascending=True).plot(kind='barh', x=df['IP'])"
   ]
  },
  {
   "cell_type": "markdown",
   "metadata": {},
   "source": [
    "We can use matplotlib to configure the visualization to make it more visually appealing. In this example I'm going to try to reduce noise as much as possible while keeping the focus on the data."
   ]
  },
  {
   "cell_type": "code",
   "execution_count": 24,
   "metadata": {
    "collapsed": false
   },
   "outputs": [
    {
     "data": {
      "text/plain": [
       "<matplotlib.axes._subplots.AxesSubplot at 0x7f3345e587d0>"
      ]
     },
     "execution_count": 24,
     "metadata": {},
     "output_type": "execute_result"
    },
    {
     "data": {
      "image/png": "[encoded data removed]",
      "text/plain": [
       "<matplotlib.figure.Figure at 0x7f3345d4aed0>"
      ]
     },
     "metadata": {},
     "output_type": "display_data"
    }
   ],
   "source": [
    "# primary data and plot config\n",
    "df.sort(columns='count', ascending=True).plot(kind='barh', x=df['IP'], grid=False, legend=False, alpha=0.5, color='g', xlim=(0, df['count'].max() + 5))\n",
    "\n",
    "# get plot dimensions\n",
    "#xmin, xmax, ymin, ymax = plt.axis()\n",
    "\n",
    "# plot a red line for the average of the count column\n",
    "#plt.vlines(df['count'].mean(), ymin=ymin, ymax=ymax, linewidth=1.5, color='r')\n",
    "\n",
    "# add some annotations\n",
    "#plt.annotate('Average', xy=(df['count'].mean(), ymax / 3), xytext=(df['count'].mean() + 30, ymax / 2), arrowprops=dict(facecolor='black', shrink=0.05))"
   ]
  },
  {
   "cell_type": "markdown",
   "metadata": {},
   "source": [
    "Let's take a look at what this data would look like using seaborn (http://stanford.edu/~mwaskom/software/seaborn/index.html#)"
   ]
  },
  {
   "cell_type": "code",
   "execution_count": 28,
   "metadata": {
    "collapsed": false
   },
   "outputs": [
    {
     "data": {
      "text/plain": [
       "<matplotlib.axes._subplots.AxesSubplot at 0x7f3345ab02d0>"
      ]
     },
     "execution_count": 28,
     "metadata": {},
     "output_type": "execute_result"
    },
    {
     "data": {
      "image/png": "[encoded data removed]",
      "text/plain": [
       "<matplotlib.figure.Figure at 0x7f3345a3c610>"
      ]
     },
     "metadata": {},
     "output_type": "display_data"
    }
   ],
   "source": [
    "import seaborn as sns\n",
    "df.sort(columns='count', ascending=True).plot(kind='barh', x=df['IP'])"
   ]
  },
  {
   "cell_type": "markdown",
   "metadata": {},
   "source": [
    "#Public data sets\n",
    "\n",
    "Let's try working with some public data from the TCEQ. You can download Historical Pollutant and Weather data from here: http://www.tceq.state.tx.us/airquality/monops/historical_data.html\n",
    "\n",
    "For this example we'll get the most recent (2006) Ozone and Carbon Monoxide data which are in two seperate files which come as Excel spreadsheets (around 4MB a piece after they are unzipped)"
   ]
  },
  {
   "cell_type": "code",
   "execution_count": 15,
   "metadata": {
    "collapsed": false
   },
   "outputs": [
    {
     "name": "stdout",
     "output_type": "stream",
     "text": [
      "Archive:  co_2006.zip\n",
      "  inflating: co_2006.xls             \n",
      "Archive:  oz_2006.zip\n",
      "  inflating: oz_2006.xls             \n"
     ]
    }
   ],
   "source": [
    "%%bash\n",
    "wget http://www.tceq.texas.gov/assets/public/compliance/monops/air/ozonehist/oz_2006.zip 2> /dev/null\n",
    "wget http://www.tceq.texas.gov/assets/public/compliance/monops/air/ozonehist/co_2006.zip 2> /dev/null\n",
    "for i in $(ls | grep zip); do unzip $i; done"
   ]
  },
  {
   "cell_type": "markdown",
   "metadata": {},
   "source": [
    "We can read directly from .xls and .xlsx files into a DF like this:"
   ]
  },
  {
   "cell_type": "code",
   "execution_count": 43,
   "metadata": {
    "collapsed": false
   },
   "outputs": [],
   "source": [
    "ozone = pd.io.excel.read_excel('file://localhost/home/steven/code/acpg-may2015/oz_2006.xls')\n",
    "carbon_monoxide = pd.io.excel.read_excel('file://localhost/home/steven/code/acpg-may2015/co_2006.xls')"
   ]
  },
  {
   "cell_type": "markdown",
   "metadata": {},
   "source": [
    "For now we'll focus on the Ozone DF and get a better understanding of the data that we're working with. We can get the shape of the data to see how many rows and columns we're working with:"
   ]
  },
  {
   "cell_type": "code",
   "execution_count": 44,
   "metadata": {
    "collapsed": false
   },
   "outputs": [
    {
     "data": {
      "text/plain": [
       "(25399, 60)"
      ]
     },
     "execution_count": 44,
     "metadata": {},
     "output_type": "execute_result"
    }
   ],
   "source": [
    "ozone.shape"
   ]
  },
  {
   "cell_type": "markdown",
   "metadata": {},
   "source": [
    "Again using head() to take a peek at the data, we can see it consists of an 'airs' number which is a recording station, a date the measurement was taken then Ozone reading every hour. The columns are truncated so we'll have to examine that another way."
   ]
  },
  {
   "cell_type": "code",
   "execution_count": 45,
   "metadata": {
    "collapsed": false
   },
   "outputs": [
    {
     "data": {
      "text/html": [
       "<div style=\"max-height:1000px;max-width:1500px;overflow:auto;\">\n",
       "<table border=\"1\" class=\"dataframe\">\n",
       "  <thead>\n",
       "    <tr style=\"text-align: right;\">\n",
       "      <th></th>\n",
       "      <th>airs</th>\n",
       "      <th>date</th>\n",
       "      <th>OZ1hr0</th>\n",
       "      <th>OZ1hr1</th>\n",
       "      <th>OZ1hr2</th>\n",
       "      <th>OZ1hr3</th>\n",
       "      <th>OZ1hr4</th>\n",
       "      <th>OZ1hr5</th>\n",
       "      <th>OZ1hr6</th>\n",
       "      <th>OZ1hr7</th>\n",
       "      <th>...</th>\n",
       "      <th>oz8hr17</th>\n",
       "      <th>oz8hr18</th>\n",
       "      <th>oz8hr19</th>\n",
       "      <th>oz8hr20</th>\n",
       "      <th>oz8hr21</th>\n",
       "      <th>oz8hr22</th>\n",
       "      <th>oz8hr23</th>\n",
       "      <th>oz8hrpk</th>\n",
       "      <th>oz8hrvh</th>\n",
       "      <th>oz8hrvd</th>\n",
       "    </tr>\n",
       "  </thead>\n",
       "  <tbody>\n",
       "    <tr>\n",
       "      <th>0</th>\n",
       "      <td>480290032</td>\n",
       "      <td>2006-01-01</td>\n",
       "      <td>6</td>\n",
       "      <td>2</td>\n",
       "      <td>8</td>\n",
       "      <td>10</td>\n",
       "      <td>12</td>\n",
       "      <td>15</td>\n",
       "      <td>15</td>\n",
       "      <td>15</td>\n",
       "      <td>...</td>\n",
       "      <td>11.875</td>\n",
       "      <td>8.625</td>\n",
       "      <td>10.125</td>\n",
       "      <td>13.00</td>\n",
       "      <td>16.000</td>\n",
       "      <td>19.000</td>\n",
       "      <td>21.250</td>\n",
       "      <td>34.625</td>\n",
       "      <td>24</td>\n",
       "      <td>1</td>\n",
       "    </tr>\n",
       "    <tr>\n",
       "      <th>1</th>\n",
       "      <td>480290032</td>\n",
       "      <td>2006-01-02</td>\n",
       "      <td>12</td>\n",
       "      <td>8</td>\n",
       "      <td>28</td>\n",
       "      <td>37</td>\n",
       "      <td>30</td>\n",
       "      <td>30</td>\n",
       "      <td>23</td>\n",
       "      <td>15</td>\n",
       "      <td>...</td>\n",
       "      <td>7.625</td>\n",
       "      <td>3.625</td>\n",
       "      <td>1.625</td>\n",
       "      <td>1.25</td>\n",
       "      <td>1.250</td>\n",
       "      <td>1.375</td>\n",
       "      <td>1.375</td>\n",
       "      <td>39.875</td>\n",
       "      <td>24</td>\n",
       "      <td>1</td>\n",
       "    </tr>\n",
       "    <tr>\n",
       "      <th>2</th>\n",
       "      <td>480290032</td>\n",
       "      <td>2006-01-03</td>\n",
       "      <td>1</td>\n",
       "      <td>1</td>\n",
       "      <td>1</td>\n",
       "      <td>2</td>\n",
       "      <td>2</td>\n",
       "      <td>2</td>\n",
       "      <td>1</td>\n",
       "      <td>1</td>\n",
       "      <td>...</td>\n",
       "      <td>20.875</td>\n",
       "      <td>16.500</td>\n",
       "      <td>15.375</td>\n",
       "      <td>15.75</td>\n",
       "      <td>13.375</td>\n",
       "      <td>10.250</td>\n",
       "      <td>7.000</td>\n",
       "      <td>39.250</td>\n",
       "      <td>24</td>\n",
       "      <td>1</td>\n",
       "    </tr>\n",
       "  </tbody>\n",
       "</table>\n",
       "<p>3 rows × 60 columns</p>\n",
       "</div>"
      ],
      "text/plain": [
       "        airs       date  OZ1hr0  OZ1hr1  OZ1hr2  OZ1hr3  OZ1hr4  OZ1hr5  \\\n",
       "0  480290032 2006-01-01       6       2       8      10      12      15   \n",
       "1  480290032 2006-01-02      12       8      28      37      30      30   \n",
       "2  480290032 2006-01-03       1       1       1       2       2       2   \n",
       "\n",
       "   OZ1hr6  OZ1hr7   ...     oz8hr17  oz8hr18  oz8hr19  oz8hr20  oz8hr21  \\\n",
       "0      15      15   ...      11.875    8.625   10.125    13.00   16.000   \n",
       "1      23      15   ...       7.625    3.625    1.625     1.25    1.250   \n",
       "2       1       1   ...      20.875   16.500   15.375    15.75   13.375   \n",
       "\n",
       "   oz8hr22  oz8hr23  oz8hrpk  oz8hrvh  oz8hrvd  \n",
       "0   19.000   21.250   34.625       24        1  \n",
       "1    1.375    1.375   39.875       24        1  \n",
       "2   10.250    7.000   39.250       24        1  \n",
       "\n",
       "[3 rows x 60 columns]"
      ]
     },
     "execution_count": 45,
     "metadata": {},
     "output_type": "execute_result"
    }
   ],
   "source": [
    "ozone.head(3)"
   ]
  },
  {
   "cell_type": "code",
   "execution_count": 68,
   "metadata": {
    "collapsed": false
   },
   "outputs": [
    {
     "data": {
      "text/plain": [
       "Index([u'airs', u'date', u'OZ1hr0', u'OZ1hr1', u'OZ1hr2', u'OZ1hr3', u'OZ1hr4', u'OZ1hr5', u'OZ1hr6', u'OZ1hr7', u'OZ1hr8', u'OZ1hr9', u'OZ1hr10', u'OZ1hr11', u'OZ1hr12', u'OZ1hr13', u'OZ1hr14', u'OZ1hr15', u'OZ1hr16', u'OZ1hr17', u'OZ1hr18', u'OZ1hr19', u'OZ1hr20', u'OZ1hr21', u'OZ1hr22', u'OZ1hr23', u'OZunit', u'OZmetxt', u'OZmeth', u'OZ1hrvh', u'OZ1hrvd', u'OZ1hrpk', u'OZ1hrav', u'oz8hr0', u'oz8hr1', u'oz8hr2', u'oz8hr3', u'oz8hr4', u'oz8hr5', u'oz8hr6', u'oz8hr7', u'oz8hr8', u'oz8hr9', u'oz8hr10', u'oz8hr11', u'oz8hr12', u'oz8hr13', u'oz8hr14', u'oz8hr15', u'oz8hr16', u'oz8hr17', u'oz8hr18', u'oz8hr19', u'oz8hr20', u'oz8hr21', u'oz8hr22', u'oz8hr23', u'oz8hrpk', u'oz8hrvh', u'oz8hrvd'], dtype='object')"
      ]
     },
     "execution_count": 68,
     "metadata": {},
     "output_type": "execute_result"
    }
   ],
   "source": [
    "ozone.columns\n",
    "#for col_name in ozone.columns:\n",
    "#    print col_name"
   ]
  },
  {
   "cell_type": "markdown",
   "metadata": {},
   "source": [
    "We can use regex to get just the colums that match the way 1hr measurements are named."
   ]
  },
  {
   "cell_type": "code",
   "execution_count": 106,
   "metadata": {
    "collapsed": false
   },
   "outputs": [],
   "source": [
    "ozone_1hr = ozone.filter(regex=\"OZ1hr\")"
   ]
  },
  {
   "cell_type": "code",
   "execution_count": 107,
   "metadata": {
    "collapsed": false
   },
   "outputs": [
    {
     "data": {
      "text/plain": [
       "(25399, 28)"
      ]
     },
     "execution_count": 107,
     "metadata": {},
     "output_type": "execute_result"
    }
   ],
   "source": [
    "ozone_1hr.shape"
   ]
  },
  {
   "cell_type": "markdown",
   "metadata": {},
   "source": [
    "Except we didn't match 'airs' and we'd like to keep that data so we know where the data is coming from"
   ]
  },
  {
   "cell_type": "code",
   "execution_count": 108,
   "metadata": {
    "collapsed": false
   },
   "outputs": [
    {
     "data": {
      "text/html": [
       "<div style=\"max-height:1000px;max-width:1500px;overflow:auto;\">\n",
       "<table border=\"1\" class=\"dataframe\">\n",
       "  <thead>\n",
       "    <tr style=\"text-align: right;\">\n",
       "      <th></th>\n",
       "      <th>OZ1hr0</th>\n",
       "      <th>OZ1hr1</th>\n",
       "      <th>OZ1hr2</th>\n",
       "      <th>OZ1hr3</th>\n",
       "      <th>OZ1hr4</th>\n",
       "      <th>OZ1hr5</th>\n",
       "      <th>OZ1hr6</th>\n",
       "      <th>OZ1hr7</th>\n",
       "      <th>OZ1hr8</th>\n",
       "      <th>OZ1hr9</th>\n",
       "      <th>...</th>\n",
       "      <th>OZ1hr18</th>\n",
       "      <th>OZ1hr19</th>\n",
       "      <th>OZ1hr20</th>\n",
       "      <th>OZ1hr21</th>\n",
       "      <th>OZ1hr22</th>\n",
       "      <th>OZ1hr23</th>\n",
       "      <th>OZ1hrvh</th>\n",
       "      <th>OZ1hrvd</th>\n",
       "      <th>OZ1hrpk</th>\n",
       "      <th>OZ1hrav</th>\n",
       "    </tr>\n",
       "  </thead>\n",
       "  <tbody>\n",
       "    <tr>\n",
       "      <th>0</th>\n",
       "      <td>6</td>\n",
       "      <td>2</td>\n",
       "      <td>8</td>\n",
       "      <td>10</td>\n",
       "      <td>12</td>\n",
       "      <td>15</td>\n",
       "      <td>15</td>\n",
       "      <td>15</td>\n",
       "      <td>15</td>\n",
       "      <td>23</td>\n",
       "      <td>...</td>\n",
       "      <td>16</td>\n",
       "      <td>14</td>\n",
       "      <td>6</td>\n",
       "      <td>6</td>\n",
       "      <td>5</td>\n",
       "      <td>2</td>\n",
       "      <td>24</td>\n",
       "      <td>1</td>\n",
       "      <td>41</td>\n",
       "      <td>18.625000</td>\n",
       "    </tr>\n",
       "    <tr>\n",
       "      <th>1</th>\n",
       "      <td>12</td>\n",
       "      <td>8</td>\n",
       "      <td>28</td>\n",
       "      <td>37</td>\n",
       "      <td>30</td>\n",
       "      <td>30</td>\n",
       "      <td>23</td>\n",
       "      <td>15</td>\n",
       "      <td>6</td>\n",
       "      <td>18</td>\n",
       "      <td>...</td>\n",
       "      <td>17</td>\n",
       "      <td>5</td>\n",
       "      <td>2</td>\n",
       "      <td>1</td>\n",
       "      <td>1</td>\n",
       "      <td>1</td>\n",
       "      <td>24</td>\n",
       "      <td>1</td>\n",
       "      <td>43</td>\n",
       "      <td>23.041667</td>\n",
       "    </tr>\n",
       "    <tr>\n",
       "      <th>2</th>\n",
       "      <td>1</td>\n",
       "      <td>1</td>\n",
       "      <td>1</td>\n",
       "      <td>2</td>\n",
       "      <td>2</td>\n",
       "      <td>2</td>\n",
       "      <td>1</td>\n",
       "      <td>1</td>\n",
       "      <td>2</td>\n",
       "      <td>6</td>\n",
       "      <td>...</td>\n",
       "      <td>17</td>\n",
       "      <td>6</td>\n",
       "      <td>31</td>\n",
       "      <td>30</td>\n",
       "      <td>29</td>\n",
       "      <td>6</td>\n",
       "      <td>24</td>\n",
       "      <td>1</td>\n",
       "      <td>49</td>\n",
       "      <td>18.833333</td>\n",
       "    </tr>\n",
       "    <tr>\n",
       "      <th>3</th>\n",
       "      <td>6</td>\n",
       "      <td>7</td>\n",
       "      <td>8</td>\n",
       "      <td>9</td>\n",
       "      <td>12</td>\n",
       "      <td>5</td>\n",
       "      <td>3</td>\n",
       "      <td>1</td>\n",
       "      <td>2</td>\n",
       "      <td>7</td>\n",
       "      <td>...</td>\n",
       "      <td>25</td>\n",
       "      <td>17</td>\n",
       "      <td>15</td>\n",
       "      <td>26</td>\n",
       "      <td>28</td>\n",
       "      <td>28</td>\n",
       "      <td>24</td>\n",
       "      <td>1</td>\n",
       "      <td>42</td>\n",
       "      <td>17.541667</td>\n",
       "    </tr>\n",
       "    <tr>\n",
       "      <th>4</th>\n",
       "      <td>24</td>\n",
       "      <td>26</td>\n",
       "      <td>30</td>\n",
       "      <td>27</td>\n",
       "      <td>27</td>\n",
       "      <td>28</td>\n",
       "      <td>22</td>\n",
       "      <td>17</td>\n",
       "      <td>21</td>\n",
       "      <td>31</td>\n",
       "      <td>...</td>\n",
       "      <td>29</td>\n",
       "      <td>21</td>\n",
       "      <td>25</td>\n",
       "      <td>23</td>\n",
       "      <td>21</td>\n",
       "      <td>24</td>\n",
       "      <td>24</td>\n",
       "      <td>1</td>\n",
       "      <td>43</td>\n",
       "      <td>29.791667</td>\n",
       "    </tr>\n",
       "  </tbody>\n",
       "</table>\n",
       "<p>5 rows × 28 columns</p>\n",
       "</div>"
      ],
      "text/plain": [
       "   OZ1hr0  OZ1hr1  OZ1hr2  OZ1hr3  OZ1hr4  OZ1hr5  OZ1hr6  OZ1hr7  OZ1hr8  \\\n",
       "0       6       2       8      10      12      15      15      15      15   \n",
       "1      12       8      28      37      30      30      23      15       6   \n",
       "2       1       1       1       2       2       2       1       1       2   \n",
       "3       6       7       8       9      12       5       3       1       2   \n",
       "4      24      26      30      27      27      28      22      17      21   \n",
       "\n",
       "   OZ1hr9    ...      OZ1hr18  OZ1hr19  OZ1hr20  OZ1hr21  OZ1hr22  OZ1hr23  \\\n",
       "0      23    ...           16       14        6        6        5        2   \n",
       "1      18    ...           17        5        2        1        1        1   \n",
       "2       6    ...           17        6       31       30       29        6   \n",
       "3       7    ...           25       17       15       26       28       28   \n",
       "4      31    ...           29       21       25       23       21       24   \n",
       "\n",
       "   OZ1hrvh  OZ1hrvd  OZ1hrpk    OZ1hrav  \n",
       "0       24        1       41  18.625000  \n",
       "1       24        1       43  23.041667  \n",
       "2       24        1       49  18.833333  \n",
       "3       24        1       42  17.541667  \n",
       "4       24        1       43  29.791667  \n",
       "\n",
       "[5 rows x 28 columns]"
      ]
     },
     "execution_count": 108,
     "metadata": {},
     "output_type": "execute_result"
    }
   ],
   "source": [
    "ozone_1hr.head()"
   ]
  },
  {
   "cell_type": "markdown",
   "metadata": {},
   "source": [
    "We can instert at a particular index (0) give it a column name ('airs') and a source for the data (ozone['airs'])"
   ]
  },
  {
   "cell_type": "code",
   "execution_count": 109,
   "metadata": {
    "collapsed": true
   },
   "outputs": [],
   "source": [
    "ozone_1hr.insert(0, 'airs', ozone['airs'])"
   ]
  },
  {
   "cell_type": "markdown",
   "metadata": {},
   "source": [
    "Let's get some quick stats on the data:"
   ]
  },
  {
   "cell_type": "markdown",
   "metadata": {},
   "source": [
    "Column indexing is not the most intuative, we have to pass two slices, a row slice then column slice. In this case we want all rows and all but the last 4 columns:"
   ]
  },
  {
   "cell_type": "code",
   "execution_count": 122,
   "metadata": {
    "collapsed": false
   },
   "outputs": [
    {
     "data": {
      "text/html": [
       "<div style=\"max-height:1000px;max-width:1500px;overflow:auto;\">\n",
       "<table border=\"1\" class=\"dataframe\">\n",
       "  <thead>\n",
       "    <tr style=\"text-align: right;\">\n",
       "      <th></th>\n",
       "      <th>airs</th>\n",
       "      <th>OZ1hr0</th>\n",
       "      <th>OZ1hr1</th>\n",
       "      <th>OZ1hr2</th>\n",
       "      <th>OZ1hr3</th>\n",
       "      <th>OZ1hr4</th>\n",
       "      <th>OZ1hr5</th>\n",
       "      <th>OZ1hr6</th>\n",
       "      <th>OZ1hr7</th>\n",
       "      <th>OZ1hr8</th>\n",
       "      <th>...</th>\n",
       "      <th>OZ1hr14</th>\n",
       "      <th>OZ1hr15</th>\n",
       "      <th>OZ1hr16</th>\n",
       "      <th>OZ1hr17</th>\n",
       "      <th>OZ1hr18</th>\n",
       "      <th>OZ1hr19</th>\n",
       "      <th>OZ1hr20</th>\n",
       "      <th>OZ1hr21</th>\n",
       "      <th>OZ1hr22</th>\n",
       "      <th>OZ1hr23</th>\n",
       "    </tr>\n",
       "  </thead>\n",
       "  <tbody>\n",
       "    <tr>\n",
       "      <th>0</th>\n",
       "      <td>480290032</td>\n",
       "      <td>6</td>\n",
       "      <td>2</td>\n",
       "      <td>8</td>\n",
       "      <td>10</td>\n",
       "      <td>12</td>\n",
       "      <td>15</td>\n",
       "      <td>15</td>\n",
       "      <td>15</td>\n",
       "      <td>15</td>\n",
       "      <td>...</td>\n",
       "      <td>39</td>\n",
       "      <td>39</td>\n",
       "      <td>41</td>\n",
       "      <td>34</td>\n",
       "      <td>16</td>\n",
       "      <td>14</td>\n",
       "      <td>6</td>\n",
       "      <td>6</td>\n",
       "      <td>5</td>\n",
       "      <td>2</td>\n",
       "    </tr>\n",
       "    <tr>\n",
       "      <th>1</th>\n",
       "      <td>480290032</td>\n",
       "      <td>12</td>\n",
       "      <td>8</td>\n",
       "      <td>28</td>\n",
       "      <td>37</td>\n",
       "      <td>30</td>\n",
       "      <td>30</td>\n",
       "      <td>23</td>\n",
       "      <td>15</td>\n",
       "      <td>6</td>\n",
       "      <td>...</td>\n",
       "      <td>43</td>\n",
       "      <td>43</td>\n",
       "      <td>42</td>\n",
       "      <td>33</td>\n",
       "      <td>17</td>\n",
       "      <td>5</td>\n",
       "      <td>2</td>\n",
       "      <td>1</td>\n",
       "      <td>1</td>\n",
       "      <td>1</td>\n",
       "    </tr>\n",
       "    <tr>\n",
       "      <th>2</th>\n",
       "      <td>480290032</td>\n",
       "      <td>1</td>\n",
       "      <td>1</td>\n",
       "      <td>1</td>\n",
       "      <td>2</td>\n",
       "      <td>2</td>\n",
       "      <td>2</td>\n",
       "      <td>1</td>\n",
       "      <td>1</td>\n",
       "      <td>2</td>\n",
       "      <td>...</td>\n",
       "      <td>49</td>\n",
       "      <td>48</td>\n",
       "      <td>41</td>\n",
       "      <td>42</td>\n",
       "      <td>17</td>\n",
       "      <td>6</td>\n",
       "      <td>31</td>\n",
       "      <td>30</td>\n",
       "      <td>29</td>\n",
       "      <td>6</td>\n",
       "    </tr>\n",
       "    <tr>\n",
       "      <th>3</th>\n",
       "      <td>480290032</td>\n",
       "      <td>6</td>\n",
       "      <td>7</td>\n",
       "      <td>8</td>\n",
       "      <td>9</td>\n",
       "      <td>12</td>\n",
       "      <td>5</td>\n",
       "      <td>3</td>\n",
       "      <td>1</td>\n",
       "      <td>2</td>\n",
       "      <td>...</td>\n",
       "      <td>39</td>\n",
       "      <td>42</td>\n",
       "      <td>34</td>\n",
       "      <td>28</td>\n",
       "      <td>25</td>\n",
       "      <td>17</td>\n",
       "      <td>15</td>\n",
       "      <td>26</td>\n",
       "      <td>28</td>\n",
       "      <td>28</td>\n",
       "    </tr>\n",
       "    <tr>\n",
       "      <th>4</th>\n",
       "      <td>480290032</td>\n",
       "      <td>24</td>\n",
       "      <td>26</td>\n",
       "      <td>30</td>\n",
       "      <td>27</td>\n",
       "      <td>27</td>\n",
       "      <td>28</td>\n",
       "      <td>22</td>\n",
       "      <td>17</td>\n",
       "      <td>21</td>\n",
       "      <td>...</td>\n",
       "      <td>42</td>\n",
       "      <td>43</td>\n",
       "      <td>40</td>\n",
       "      <td>38</td>\n",
       "      <td>29</td>\n",
       "      <td>21</td>\n",
       "      <td>25</td>\n",
       "      <td>23</td>\n",
       "      <td>21</td>\n",
       "      <td>24</td>\n",
       "    </tr>\n",
       "  </tbody>\n",
       "</table>\n",
       "<p>5 rows × 25 columns</p>\n",
       "</div>"
      ],
      "text/plain": [
       "        airs  OZ1hr0  OZ1hr1  OZ1hr2  OZ1hr3  OZ1hr4  OZ1hr5  OZ1hr6  OZ1hr7  \\\n",
       "0  480290032       6       2       8      10      12      15      15      15   \n",
       "1  480290032      12       8      28      37      30      30      23      15   \n",
       "2  480290032       1       1       1       2       2       2       1       1   \n",
       "3  480290032       6       7       8       9      12       5       3       1   \n",
       "4  480290032      24      26      30      27      27      28      22      17   \n",
       "\n",
       "   OZ1hr8   ...     OZ1hr14  OZ1hr15  OZ1hr16  OZ1hr17  OZ1hr18  OZ1hr19  \\\n",
       "0      15   ...          39       39       41       34       16       14   \n",
       "1       6   ...          43       43       42       33       17        5   \n",
       "2       2   ...          49       48       41       42       17        6   \n",
       "3       2   ...          39       42       34       28       25       17   \n",
       "4      21   ...          42       43       40       38       29       21   \n",
       "\n",
       "   OZ1hr20  OZ1hr21  OZ1hr22  OZ1hr23  \n",
       "0        6        6        5        2  \n",
       "1        2        1        1        1  \n",
       "2       31       30       29        6  \n",
       "3       15       26       28       28  \n",
       "4       25       23       21       24  \n",
       "\n",
       "[5 rows x 25 columns]"
      ]
     },
     "execution_count": 122,
     "metadata": {},
     "output_type": "execute_result"
    }
   ],
   "source": [
    "ozone_1hr.ix[:, :-4].head()"
   ]
  },
  {
   "cell_type": "code",
   "execution_count": 117,
   "metadata": {
    "collapsed": false
   },
   "outputs": [
    {
     "data": {
      "text/html": [
       "<div style=\"max-height:1000px;max-width:1500px;overflow:auto;\">\n",
       "<table border=\"1\" class=\"dataframe\">\n",
       "  <thead>\n",
       "    <tr style=\"text-align: right;\">\n",
       "      <th></th>\n",
       "      <th>airs</th>\n",
       "      <th>OZ1hr0</th>\n",
       "      <th>OZ1hr1</th>\n",
       "      <th>OZ1hr2</th>\n",
       "      <th>OZ1hr3</th>\n",
       "      <th>OZ1hr4</th>\n",
       "      <th>OZ1hr5</th>\n",
       "      <th>OZ1hr6</th>\n",
       "      <th>OZ1hr7</th>\n",
       "      <th>OZ1hr8</th>\n",
       "      <th>...</th>\n",
       "      <th>OZ1hr18</th>\n",
       "      <th>OZ1hr19</th>\n",
       "      <th>OZ1hr20</th>\n",
       "      <th>OZ1hr21</th>\n",
       "      <th>OZ1hr22</th>\n",
       "      <th>OZ1hr23</th>\n",
       "      <th>OZ1hrvh</th>\n",
       "      <th>OZ1hrvd</th>\n",
       "      <th>OZ1hrpk</th>\n",
       "      <th>OZ1hrav</th>\n",
       "    </tr>\n",
       "  </thead>\n",
       "  <tbody>\n",
       "    <tr>\n",
       "      <th>count</th>\n",
       "      <td>2.539900e+04</td>\n",
       "      <td>24990.000000</td>\n",
       "      <td>24985.000000</td>\n",
       "      <td>24972.000000</td>\n",
       "      <td>24986.000000</td>\n",
       "      <td>24997.000000</td>\n",
       "      <td>25006.000000</td>\n",
       "      <td>24989.000000</td>\n",
       "      <td>24951.000000</td>\n",
       "      <td>24878.000000</td>\n",
       "      <td>...</td>\n",
       "      <td>25006.000000</td>\n",
       "      <td>25023.000000</td>\n",
       "      <td>25018.000000</td>\n",
       "      <td>24512.000000</td>\n",
       "      <td>21675.000000</td>\n",
       "      <td>24147.000000</td>\n",
       "      <td>25142.000000</td>\n",
       "      <td>25399.000000</td>\n",
       "      <td>25142.000000</td>\n",
       "      <td>25142.000000</td>\n",
       "    </tr>\n",
       "    <tr>\n",
       "      <th>mean</th>\n",
       "      <td>4.822774e+08</td>\n",
       "      <td>21.919408</td>\n",
       "      <td>21.139804</td>\n",
       "      <td>20.253844</td>\n",
       "      <td>19.212439</td>\n",
       "      <td>17.719526</td>\n",
       "      <td>15.729065</td>\n",
       "      <td>14.806715</td>\n",
       "      <td>17.589876</td>\n",
       "      <td>23.217823</td>\n",
       "      <td>...</td>\n",
       "      <td>33.604975</td>\n",
       "      <td>29.000480</td>\n",
       "      <td>26.149372</td>\n",
       "      <td>24.377489</td>\n",
       "      <td>23.398800</td>\n",
       "      <td>22.541517</td>\n",
       "      <td>23.598520</td>\n",
       "      <td>0.979842</td>\n",
       "      <td>48.043513</td>\n",
       "      <td>28.623246</td>\n",
       "    </tr>\n",
       "    <tr>\n",
       "      <th>std</th>\n",
       "      <td>1.211882e+06</td>\n",
       "      <td>13.992800</td>\n",
       "      <td>13.620939</td>\n",
       "      <td>13.261454</td>\n",
       "      <td>12.913363</td>\n",
       "      <td>12.560700</td>\n",
       "      <td>12.214279</td>\n",
       "      <td>11.680671</td>\n",
       "      <td>11.806452</td>\n",
       "      <td>12.799854</td>\n",
       "      <td>...</td>\n",
       "      <td>17.860250</td>\n",
       "      <td>16.402045</td>\n",
       "      <td>15.348681</td>\n",
       "      <td>14.754059</td>\n",
       "      <td>14.682727</td>\n",
       "      <td>14.253711</td>\n",
       "      <td>1.411306</td>\n",
       "      <td>0.140544</td>\n",
       "      <td>18.102074</td>\n",
       "      <td>11.555348</td>\n",
       "    </tr>\n",
       "    <tr>\n",
       "      <th>min</th>\n",
       "      <td>4.802900e+08</td>\n",
       "      <td>0.000000</td>\n",
       "      <td>0.000000</td>\n",
       "      <td>0.000000</td>\n",
       "      <td>0.000000</td>\n",
       "      <td>0.000000</td>\n",
       "      <td>0.000000</td>\n",
       "      <td>0.000000</td>\n",
       "      <td>0.000000</td>\n",
       "      <td>0.000000</td>\n",
       "      <td>...</td>\n",
       "      <td>0.000000</td>\n",
       "      <td>0.000000</td>\n",
       "      <td>0.000000</td>\n",
       "      <td>0.000000</td>\n",
       "      <td>0.000000</td>\n",
       "      <td>0.000000</td>\n",
       "      <td>1.000000</td>\n",
       "      <td>0.000000</td>\n",
       "      <td>1.000000</td>\n",
       "      <td>0.125000</td>\n",
       "    </tr>\n",
       "    <tr>\n",
       "      <th>25%</th>\n",
       "      <td>4.814100e+08</td>\n",
       "      <td>11.000000</td>\n",
       "      <td>11.000000</td>\n",
       "      <td>10.000000</td>\n",
       "      <td>9.000000</td>\n",
       "      <td>7.000000</td>\n",
       "      <td>5.000000</td>\n",
       "      <td>5.000000</td>\n",
       "      <td>8.000000</td>\n",
       "      <td>14.000000</td>\n",
       "      <td>...</td>\n",
       "      <td>21.000000</td>\n",
       "      <td>17.000000</td>\n",
       "      <td>15.000000</td>\n",
       "      <td>13.000000</td>\n",
       "      <td>12.000000</td>\n",
       "      <td>12.000000</td>\n",
       "      <td>24.000000</td>\n",
       "      <td>1.000000</td>\n",
       "      <td>36.000000</td>\n",
       "      <td>20.139773</td>\n",
       "    </tr>\n",
       "    <tr>\n",
       "      <th>50%</th>\n",
       "      <td>4.820110e+08</td>\n",
       "      <td>21.000000</td>\n",
       "      <td>20.000000</td>\n",
       "      <td>20.000000</td>\n",
       "      <td>18.000000</td>\n",
       "      <td>17.000000</td>\n",
       "      <td>14.000000</td>\n",
       "      <td>13.000000</td>\n",
       "      <td>16.000000</td>\n",
       "      <td>22.000000</td>\n",
       "      <td>...</td>\n",
       "      <td>32.000000</td>\n",
       "      <td>28.000000</td>\n",
       "      <td>25.000000</td>\n",
       "      <td>24.000000</td>\n",
       "      <td>23.000000</td>\n",
       "      <td>22.000000</td>\n",
       "      <td>24.000000</td>\n",
       "      <td>1.000000</td>\n",
       "      <td>45.000000</td>\n",
       "      <td>27.291667</td>\n",
       "    </tr>\n",
       "    <tr>\n",
       "      <th>75%</th>\n",
       "      <td>4.825700e+08</td>\n",
       "      <td>31.000000</td>\n",
       "      <td>30.000000</td>\n",
       "      <td>29.000000</td>\n",
       "      <td>28.000000</td>\n",
       "      <td>26.000000</td>\n",
       "      <td>24.000000</td>\n",
       "      <td>23.000000</td>\n",
       "      <td>25.000000</td>\n",
       "      <td>31.000000</td>\n",
       "      <td>...</td>\n",
       "      <td>45.000000</td>\n",
       "      <td>40.000000</td>\n",
       "      <td>36.000000</td>\n",
       "      <td>34.000000</td>\n",
       "      <td>33.000000</td>\n",
       "      <td>32.000000</td>\n",
       "      <td>24.000000</td>\n",
       "      <td>1.000000</td>\n",
       "      <td>58.000000</td>\n",
       "      <td>35.714286</td>\n",
       "    </tr>\n",
       "    <tr>\n",
       "      <th>max</th>\n",
       "      <td>4.847900e+08</td>\n",
       "      <td>81.000000</td>\n",
       "      <td>77.000000</td>\n",
       "      <td>70.000000</td>\n",
       "      <td>76.000000</td>\n",
       "      <td>66.000000</td>\n",
       "      <td>63.000000</td>\n",
       "      <td>62.000000</td>\n",
       "      <td>69.000000</td>\n",
       "      <td>83.000000</td>\n",
       "      <td>...</td>\n",
       "      <td>131.000000</td>\n",
       "      <td>115.000000</td>\n",
       "      <td>98.000000</td>\n",
       "      <td>89.000000</td>\n",
       "      <td>83.000000</td>\n",
       "      <td>82.000000</td>\n",
       "      <td>24.000000</td>\n",
       "      <td>1.000000</td>\n",
       "      <td>160.000000</td>\n",
       "      <td>75.458333</td>\n",
       "    </tr>\n",
       "  </tbody>\n",
       "</table>\n",
       "<p>8 rows × 29 columns</p>\n",
       "</div>"
      ],
      "text/plain": [
       "               airs        OZ1hr0        OZ1hr1        OZ1hr2        OZ1hr3  \\\n",
       "count  2.539900e+04  24990.000000  24985.000000  24972.000000  24986.000000   \n",
       "mean   4.822774e+08     21.919408     21.139804     20.253844     19.212439   \n",
       "std    1.211882e+06     13.992800     13.620939     13.261454     12.913363   \n",
       "min    4.802900e+08      0.000000      0.000000      0.000000      0.000000   \n",
       "25%    4.814100e+08     11.000000     11.000000     10.000000      9.000000   \n",
       "50%    4.820110e+08     21.000000     20.000000     20.000000     18.000000   \n",
       "75%    4.825700e+08     31.000000     30.000000     29.000000     28.000000   \n",
       "max    4.847900e+08     81.000000     77.000000     70.000000     76.000000   \n",
       "\n",
       "             OZ1hr4        OZ1hr5        OZ1hr6        OZ1hr7        OZ1hr8  \\\n",
       "count  24997.000000  25006.000000  24989.000000  24951.000000  24878.000000   \n",
       "mean      17.719526     15.729065     14.806715     17.589876     23.217823   \n",
       "std       12.560700     12.214279     11.680671     11.806452     12.799854   \n",
       "min        0.000000      0.000000      0.000000      0.000000      0.000000   \n",
       "25%        7.000000      5.000000      5.000000      8.000000     14.000000   \n",
       "50%       17.000000     14.000000     13.000000     16.000000     22.000000   \n",
       "75%       26.000000     24.000000     23.000000     25.000000     31.000000   \n",
       "max       66.000000     63.000000     62.000000     69.000000     83.000000   \n",
       "\n",
       "           ...            OZ1hr18       OZ1hr19       OZ1hr20       OZ1hr21  \\\n",
       "count      ...       25006.000000  25023.000000  25018.000000  24512.000000   \n",
       "mean       ...          33.604975     29.000480     26.149372     24.377489   \n",
       "std        ...          17.860250     16.402045     15.348681     14.754059   \n",
       "min        ...           0.000000      0.000000      0.000000      0.000000   \n",
       "25%        ...          21.000000     17.000000     15.000000     13.000000   \n",
       "50%        ...          32.000000     28.000000     25.000000     24.000000   \n",
       "75%        ...          45.000000     40.000000     36.000000     34.000000   \n",
       "max        ...         131.000000    115.000000     98.000000     89.000000   \n",
       "\n",
       "            OZ1hr22       OZ1hr23       OZ1hrvh       OZ1hrvd       OZ1hrpk  \\\n",
       "count  21675.000000  24147.000000  25142.000000  25399.000000  25142.000000   \n",
       "mean      23.398800     22.541517     23.598520      0.979842     48.043513   \n",
       "std       14.682727     14.253711      1.411306      0.140544     18.102074   \n",
       "min        0.000000      0.000000      1.000000      0.000000      1.000000   \n",
       "25%       12.000000     12.000000     24.000000      1.000000     36.000000   \n",
       "50%       23.000000     22.000000     24.000000      1.000000     45.000000   \n",
       "75%       33.000000     32.000000     24.000000      1.000000     58.000000   \n",
       "max       83.000000     82.000000     24.000000      1.000000    160.000000   \n",
       "\n",
       "            OZ1hrav  \n",
       "count  25142.000000  \n",
       "mean      28.623246  \n",
       "std       11.555348  \n",
       "min        0.125000  \n",
       "25%       20.139773  \n",
       "50%       27.291667  \n",
       "75%       35.714286  \n",
       "max       75.458333  \n",
       "\n",
       "[8 rows x 29 columns]"
      ]
     },
     "execution_count": 117,
     "metadata": {},
     "output_type": "execute_result"
    }
   ],
   "source": [
    "ozone_1hr.describe()"
   ]
  },
  {
   "cell_type": "markdown",
   "metadata": {},
   "source": [
    "Ideally each 'airs' would have 365 readings through out the year but we can see that some don't have a full dataset:"
   ]
  },
  {
   "cell_type": "code",
   "execution_count": 111,
   "metadata": {
    "collapsed": false
   },
   "outputs": [
    {
     "data": {
      "text/plain": [
       "airs\n",
       "480290032    365\n",
       "480290052    365\n",
       "480290059    365\n",
       "480391004    365\n",
       "480391016    363\n",
       "480430101    365\n",
       "480610006    334\n",
       "480850005    365\n",
       "481130069    365\n",
       "481130075    365\n",
       "481130087    365\n",
       "481133003     89\n",
       "481210034    365\n",
       "481211032    243\n",
       "481390015    365\n",
       "dtype: int64"
      ]
     },
     "execution_count": 111,
     "metadata": {},
     "output_type": "execute_result"
    }
   ],
   "source": [
    "ozone_1hr.groupby('airs').size().head(15)"
   ]
  },
  {
   "cell_type": "code",
   "execution_count": 112,
   "metadata": {
    "collapsed": false
   },
   "outputs": [
    {
     "data": {
      "text/html": [
       "<div style=\"max-height:1000px;max-width:1500px;overflow:auto;\">\n",
       "<table border=\"1\" class=\"dataframe\">\n",
       "  <thead>\n",
       "    <tr style=\"text-align: right;\">\n",
       "      <th></th>\n",
       "      <th>airs</th>\n",
       "      <th>count</th>\n",
       "    </tr>\n",
       "  </thead>\n",
       "  <tbody>\n",
       "    <tr>\n",
       "      <th>0</th>\n",
       "      <td>480290032</td>\n",
       "      <td>365</td>\n",
       "    </tr>\n",
       "    <tr>\n",
       "      <th>1</th>\n",
       "      <td>480290052</td>\n",
       "      <td>365</td>\n",
       "    </tr>\n",
       "    <tr>\n",
       "      <th>2</th>\n",
       "      <td>480290059</td>\n",
       "      <td>365</td>\n",
       "    </tr>\n",
       "    <tr>\n",
       "      <th>3</th>\n",
       "      <td>480391004</td>\n",
       "      <td>365</td>\n",
       "    </tr>\n",
       "    <tr>\n",
       "      <th>4</th>\n",
       "      <td>480391016</td>\n",
       "      <td>363</td>\n",
       "    </tr>\n",
       "  </tbody>\n",
       "</table>\n",
       "</div>"
      ],
      "text/plain": [
       "        airs  count\n",
       "0  480290032    365\n",
       "1  480290052    365\n",
       "2  480290059    365\n",
       "3  480391004    365\n",
       "4  480391016    363"
      ]
     },
     "execution_count": 112,
     "metadata": {},
     "output_type": "execute_result"
    }
   ],
   "source": [
    "# from http://stackoverflow.com/a/10374456\n",
    "airs_count = pd.DataFrame({'count': ozone_1hr.groupby('airs').size()}).reset_index()\n",
    "airs_count.head()"
   ]
  },
  {
   "cell_type": "code",
   "execution_count": 113,
   "metadata": {
    "collapsed": false
   },
   "outputs": [
    {
     "data": {
      "text/html": [
       "<div style=\"max-height:1000px;max-width:1500px;overflow:auto;\">\n",
       "<table border=\"1\" class=\"dataframe\">\n",
       "  <thead>\n",
       "    <tr style=\"text-align: right;\">\n",
       "      <th></th>\n",
       "      <th>airs</th>\n",
       "      <th>count</th>\n",
       "    </tr>\n",
       "  </thead>\n",
       "  <tbody>\n",
       "    <tr>\n",
       "      <th>0</th>\n",
       "      <td>480290032</td>\n",
       "      <td>365</td>\n",
       "    </tr>\n",
       "    <tr>\n",
       "      <th>1</th>\n",
       "      <td>480290052</td>\n",
       "      <td>365</td>\n",
       "    </tr>\n",
       "    <tr>\n",
       "      <th>2</th>\n",
       "      <td>480290059</td>\n",
       "      <td>365</td>\n",
       "    </tr>\n",
       "    <tr>\n",
       "      <th>3</th>\n",
       "      <td>480391004</td>\n",
       "      <td>365</td>\n",
       "    </tr>\n",
       "    <tr>\n",
       "      <th>5</th>\n",
       "      <td>480430101</td>\n",
       "      <td>365</td>\n",
       "    </tr>\n",
       "  </tbody>\n",
       "</table>\n",
       "</div>"
      ],
      "text/plain": [
       "        airs  count\n",
       "0  480290032    365\n",
       "1  480290052    365\n",
       "2  480290059    365\n",
       "3  480391004    365\n",
       "5  480430101    365"
      ]
     },
     "execution_count": 113,
     "metadata": {},
     "output_type": "execute_result"
    }
   ],
   "source": [
    "airs_all_year = airs_count[airs_count['count'] == 365]\n",
    "airs_all_year.head()"
   ]
  },
  {
   "cell_type": "markdown",
   "metadata": {},
   "source": [
    "Now that we have a list of 'airs' that have 365 records, we'll only select them from our original 'ozone' variable if they exist in the 'airs_all_year' variable:"
   ]
  },
  {
   "cell_type": "code",
   "execution_count": 114,
   "metadata": {
    "collapsed": false
   },
   "outputs": [],
   "source": [
    "ozone_1hr_filtered = ozone_1hr[ozone_1hr['airs'].isin(airs_all_year['airs'])]"
   ]
  },
  {
   "cell_type": "code",
   "execution_count": null,
   "metadata": {
    "collapsed": true
   },
   "outputs": [],
   "source": []
  }
 ],
 "metadata": {
  "kernelspec": {
   "display_name": "Python 2",
   "language": "python",
   "name": "python2"
  },
  "language_info": {
   "codemirror_mode": {
    "name": "ipython",
    "version": 2
   },
   "file_extension": ".py",
   "mimetype": "text/x-python",
   "name": "python",
   "nbconvert_exporter": "python",
   "pygments_lexer": "ipython2",
   "version": "2.7.9"
  }
 },
 "nbformat": 4,
 "nbformat_minor": 0
}
